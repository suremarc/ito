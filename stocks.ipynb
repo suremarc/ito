{
 "cells": [
  {
   "cell_type": "code",
   "execution_count": 7,
   "metadata": {},
   "outputs": [],
   "source": [
    "from flightsql import connect, FlightSQLClient\n",
    "\n",
    "import ibis\n",
    "from ibis import _\n",
    "\n",
    "from backend import FlightSQLDataFusionBackend"
   ]
  },
  {
   "cell_type": "code",
   "execution_count": 8,
   "metadata": {},
   "outputs": [],
   "source": [
    "ibis.options.verbose = True\n",
    "ibis.options.sql.default_limit = 100\n",
    "\n",
    "conn = FlightSQLDataFusionBackend.from_connection(\n",
    "    connect(FlightSQLClient(host=\"localhost\", port=50051, insecure=True))\n",
    ")"
   ]
  },
  {
   "cell_type": "code",
   "execution_count": null,
   "metadata": {},
   "outputs": [],
   "source": [
    "trades = conn.table(\"trades_v2\", database=\"external.us_stocks_all\")\n",
    "\n",
    "trades.order_by(_.sip_timestamp.desc()).filter(_.ticker == \"META\").execute()"
   ]
  }
 ],
 "metadata": {
  "kernelspec": {
   "display_name": "ito",
   "language": "python",
   "name": "python3"
  },
  "language_info": {
   "codemirror_mode": {
    "name": "ipython",
    "version": 3
   },
   "file_extension": ".py",
   "mimetype": "text/x-python",
   "name": "python",
   "nbconvert_exporter": "python",
   "pygments_lexer": "ipython3",
   "version": "3.12.3"
  }
 },
 "nbformat": 4,
 "nbformat_minor": 2
}

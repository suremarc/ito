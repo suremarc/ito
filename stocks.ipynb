{
 "cells": [
  {
   "cell_type": "code",
   "execution_count": null,
   "metadata": {},
   "outputs": [],
   "source": [
    "from flightsql import connect, FlightSQLClient\n",
    "\n",
    "import ibis\n",
    "from ibis import _\n",
    "\n",
    "import altair as alt\n",
    "\n",
    "alt.data_transformers.enable(\"vegafusion\")\n",
    "\n",
    "from backend import FlightSQLDataFusionBackend"
   ]
  },
  {
   "cell_type": "code",
   "execution_count": null,
   "metadata": {},
   "outputs": [],
   "source": [
    "ibis.options.verbose = True\n",
    "ibis.options.sql.default_limit = 100\n",
    "\n",
    "conn = FlightSQLDataFusionBackend.from_connection(\n",
    "    connect(FlightSQLClient(host=\"localhost\", port=50051, insecure=True))\n",
    ")"
   ]
  },
  {
   "cell_type": "code",
   "execution_count": null,
   "metadata": {},
   "outputs": [],
   "source": [
    "day_aggs = conn.table(\"day_aggs_v2\", database=\"external.us_stocks_all\")\n",
    "\n",
    "df = (\n",
    "    day_aggs.order_by(_.window_start.asc())\n",
    "    .filter(_.ticker == \"AAPL\")\n",
    "    .mutate(log_close=_.close.log())\n",
    "    .mutate(log_close_diff=_.log_close.lead() - _.log_close)\n",
    ")\n",
    "\n",
    "df.execute()"
   ]
  },
  {
   "cell_type": "code",
   "execution_count": null,
   "metadata": {},
   "outputs": [],
   "source": [
    "alt.layer(\n",
    "    alt.Chart(df).mark_line(color=\"blue\").encode(x=\"window_start\", y=\"log_close_diff\")\n",
    ").interactive()"
   ]
  }
 ],
 "metadata": {
  "kernelspec": {
   "display_name": "ito",
   "language": "python",
   "name": "python3"
  },
  "language_info": {
   "codemirror_mode": {
    "name": "ipython",
    "version": 3
   },
   "file_extension": ".py",
   "mimetype": "text/x-python",
   "name": "python",
   "nbconvert_exporter": "python",
   "pygments_lexer": "ipython3",
   "version": "3.12.5"
  }
 },
 "nbformat": 4,
 "nbformat_minor": 2
}
